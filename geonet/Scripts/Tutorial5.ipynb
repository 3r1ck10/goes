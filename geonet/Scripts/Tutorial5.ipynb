{
 "cells": [
  {
   "cell_type": "code",
   "execution_count": 1,
   "metadata": {},
   "outputs": [
    {
     "ename": "ModuleNotFoundError",
     "evalue": "No module named 'netCDF4'",
     "output_type": "error",
     "traceback": [
      "\u001b[0;31m---------------------------------------------------------------------------\u001b[0m",
      "\u001b[0;31mModuleNotFoundError\u001b[0m                       Traceback (most recent call last)",
      "\u001b[0;32m<ipython-input-1-4a95f9d6303a>\u001b[0m in \u001b[0;36m<module>\u001b[0;34m\u001b[0m\n\u001b[1;32m      3\u001b[0m \u001b[0;31m# Required libraries\u001b[0m\u001b[0;34m\u001b[0m\u001b[0;34m\u001b[0m\u001b[0m\n\u001b[1;32m      4\u001b[0m \u001b[0;32mimport\u001b[0m \u001b[0mmatplotlib\u001b[0m\u001b[0;34m.\u001b[0m\u001b[0mpyplot\u001b[0m \u001b[0;32mas\u001b[0m \u001b[0mplt\u001b[0m \u001b[0;31m# Import the Matplotlib package\u001b[0m\u001b[0;34m\u001b[0m\u001b[0m\n\u001b[0;32m----> 5\u001b[0;31m \u001b[0;32mfrom\u001b[0m \u001b[0mnetCDF4\u001b[0m \u001b[0;32mimport\u001b[0m \u001b[0mDataset\u001b[0m \u001b[0;31m# Import the NetCDF Python interface\u001b[0m\u001b[0;34m\u001b[0m\u001b[0m\n\u001b[0m\u001b[1;32m      6\u001b[0m \u001b[0;32mfrom\u001b[0m \u001b[0mmpl_toolkits\u001b[0m\u001b[0;34m.\u001b[0m\u001b[0mbasemap\u001b[0m \u001b[0;32mimport\u001b[0m \u001b[0mBasemap\u001b[0m \u001b[0;31m# Import the Basemap toolkit\u001b[0m\u001b[0;34m\u001b[0m\u001b[0m\n\u001b[1;32m      7\u001b[0m \u001b[0;32mimport\u001b[0m \u001b[0mnumpy\u001b[0m \u001b[0;32mas\u001b[0m \u001b[0mnp\u001b[0m \u001b[0;31m# Import the Numpy package\u001b[0m\u001b[0;34m\u001b[0m\u001b[0m\n",
      "\u001b[0;31mModuleNotFoundError\u001b[0m: No module named 'netCDF4'"
     ]
    }
   ],
   "source": [
    "# GNC-A Blog Python Tutorial: Part V\n",
    " \n",
    "# Required libraries\n",
    "import matplotlib.pyplot as plt # Import the Matplotlib package\n",
    "from netCDF4 import Dataset # Import the NetCDF Python interface\n",
    "from mpl_toolkits.basemap import Basemap # Import the Basemap toolkit\n",
    "import numpy as np # Import the Numpy package\n",
    " \n",
    "from cpt_convert import loadCPT # Import the CPT convert function\n",
    "from matplotlib.colors import LinearSegmentedColormap # Linear interpolation for color maps\n",
    " \n",
    "# Path to the GOES-16 image file\n",
    "path = '/home/usuario/Escritorio/BELEN/geonet/GOES_16_Samples/OR_ABI-L2-CMIPF-M3C13_G16_s20183532145334_e20183532156112_c20183532156189.nc'\n",
    "# Search for the GOES-R channel in the file name\n",
    "Band = (path[path.find(\"M3C\")+3:path.find(\"_G16\")])\n",
    "# Search for the Scan start in the file name\n",
    "Start = (path[path.find(\"_s\")+2:path.find(\"_e\")])\n",
    "Start_Formatted = Start[0:4] + \" Day \" + Start[4:7] + \" - \" + Start [7:9] + \":\" + Start [9:11] + \":\" + Start [11:13] + \".\" + Start [13:14] + \" UTC\"\n",
    "# Search for the Scan end in the file name\n",
    "End = (path[path.find(\"_e\")+2:path.find(\"_c\")])\n",
    "End_Formatted = End[0:4] + \" Day \" + End[4:7] + \" - \" + End [7:9] + \":\" + End [9:11] + \":\" + End [11:13] + \".\" + End [13:14] + \" UTC\"\n",
    " \n",
    "# Open the file using the NetCDF4 library\n",
    "nc = Dataset(path)\n",
    " \n",
    "# Extract the Brightness Temperature values from the NetCDF\n",
    "data = nc.variables['CMI'][:]\n",
    " \n",
    "# Create the basemap reference for the Satellite Projection\n",
    "bmap = Basemap(projection='geos', lon_0=-75, lat_0=0.0, satellite_height=35786023.0, ellps='GRS80')\n",
    " \n",
    "# Converts a CPT file to be used in Python\n",
    "cpt = loadCPT('/home/usuario/Escritorio/BELEN/geonet/Colortables/IR4AVHRR6.cpt')\n",
    "\n",
    "# Makes a linear interpolation\n",
    "cpt_convert = LinearSegmentedColormap('cpt', cpt)\n",
    " \n",
    "# Plot the GOES-16 channel with the converted CPT colors\n",
    "bmap.imshow(data, origin='upper', vmin=170, vmax=378, cmap=cpt_convert)\n",
    " \n",
    "# Draw the coastlines, countries, parallels and meridians\n",
    "bmap.drawcoastlines(linewidth=0.5, linestyle='solid', color='black')\n",
    "bmap.drawcountries(linewidth=0.5, linestyle='solid', color='black')\n",
    "bmap.drawparallels(np.arange(-90.0, 90.0, 10.0), linewidth=0.3, color='white')\n",
    "bmap.drawmeridians(np.arange(0.0, 360.0, 10.0), linewidth=0.3, color='white')\n",
    " \n",
    "# Insert the legend at the bottom\\\n",
    "bmap.colorbar(location='bottom', label='Brightness Temperature [K]')\n",
    " \n",
    "# Insert the Brazilian States shapefile\n",
    "bmap.readshapefile('/home/usuario/Escritorio/BELEN/geonet/Shapefiles/BRA_adm1','BRA_adm1',linewidth=0.3,color='black')\n",
    " \n",
    "# Add a title to the plot\n",
    "plt.title(\"GOES-16 ABI Band \" + Band + \"\\n Scan from \" + Start_Formatted + \" to \" + End_Formatted)\n",
    " \n",
    "# Read some variables from the NetCDF header in order to use it in the plot\n",
    "geo_extent = nc.variables['geospatial_lat_lon_extent']\n",
    " \n",
    "center = str(geo_extent.geospatial_lon_center)\n",
    "west = str(geo_extent.geospatial_westbound_longitude)\n",
    "east = str(geo_extent.geospatial_eastbound_longitude)\n",
    "north = str(geo_extent.geospatial_northbound_latitude)\n",
    "south = str(geo_extent.geospatial_southbound_latitude)\n",
    " \n",
    "# Put the information retrieved from the header in the final image\n",
    "plt.text(-300000,300000,'Geospatial Extent \\n' + west + '°W \\n' + east + '°E \\n' + north + '°N \\n' + south + '°S \\n' + 'Center = ' + center + '°', fontsize = 7)\n",
    " \n",
    "# Export result\n",
    "DPI = 300\n",
    "plt.savefig('/home/usuario/Escritorio/BELEN/geonet/Output/Tutorial5GOES-16_Channel_13.png', dpi=DPI, bbox_inches='tight', pad_inches=0)\n",
    " \n",
    "# Show the plot\n",
    "plt.show()"
   ]
  },
  {
   "cell_type": "code",
   "execution_count": null,
   "metadata": {},
   "outputs": [],
   "source": []
  },
  {
   "cell_type": "code",
   "execution_count": null,
   "metadata": {},
   "outputs": [],
   "source": []
  }
 ],
 "metadata": {
  "kernelspec": {
   "display_name": "Python 3",
   "language": "python",
   "name": "python3"
  },
  "language_info": {
   "codemirror_mode": {
    "name": "ipython",
    "version": 3
   },
   "file_extension": ".py",
   "mimetype": "text/x-python",
   "name": "python",
   "nbconvert_exporter": "python",
   "pygments_lexer": "ipython3",
   "version": "3.6.6"
  }
 },
 "nbformat": 4,
 "nbformat_minor": 2
}
