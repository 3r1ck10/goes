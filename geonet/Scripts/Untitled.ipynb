{
 "cells": [
  {
   "cell_type": "code",
   "execution_count": null,
   "metadata": {},
   "outputs": [],
   "source": [
    "\n",
    "import glob # Unix style pathname pattern expansion\n",
    "import os # Miscellaneous operating system interfaces\n",
    "\n",
    " \n",
    "# Directory where you have the GOES-16 Files\n",
    "dirname = '/home/usuario/Escritorio/BELEN/geonet/GOES_16_Samples/'\n",
    " \n",
    "# Put all file names on the directory in a list\n",
    "G16_images = []\n",
    "for filename in sorted(glob.glob(dirname+'OR_ABI-L2-CMIPF-M3C*.nc')):\n",
    "\tG16_images.append(filename)\n",
    "\n",
    "\n",
    "# If the log file doesn't exist yet, create one\n",
    "file = open('/home/usuario/Escritorio/BELEN/geonet/Output/G16_Log.txt', 'a')\n",
    "file.close()\n",
    " \n",
    "# Put all file names on the log in a list\n",
    "log = []\n",
    "with open('/home/usuario/Escritorio/BELEN/geonet/Output/G16_Log.txt') as f:\n",
    "\tlog = f.readlines()\n",
    "\n",
    "# Remove the line feed\n",
    "log = [x.strip() for x in log]\n",
    "\n",
    "\n",
    "\n",
    " \n",
    "# Compare the directory list with the file list\n",
    "# Loop through all files in the directory\n",
    "for x in G16_images:\n",
    "\tif x not in log:\n",
    "\t\tos.system(\"/home/usuario/anaconda3/envs/goes/bin/python\" + \" \" + \"/home/usuario/Escritorio/BELEN/geonet/Scripts/Tutorial10.py\" + \" \" + x)\n",
    "\n",
    "        #os.system(\"//home//usuario//anaconda3//envs//goes//bin//python\" + \"\\\"//home//usuario//Escritorio//BELEN//geonet//Scripts//Tutorial10.py\\\"\" + \" \" + \"\\\"\" + x.replace('\\\\','\\\\\\\\') + \"\\\"\")\n"
   ]
  },
  {
   "cell_type": "code",
   "execution_count": 2,
   "metadata": {},
   "outputs": [
    {
     "data": {
      "text/plain": [
       "['/home/usuario/Escritorio/BELEN/geonet/GOES_16_Samples/OR_ABI-L2-CMIPF-M3C02_G16_s20183532130334_e20183532141101_c20183532141174-114300_0.nc',\n",
       " '/home/usuario/Escritorio/BELEN/geonet/GOES_16_Samples/OR_ABI-L2-CMIPF-M3C09_G16_s20183532130334_e20183532141106_c20183532141183.nc',\n",
       " '/home/usuario/Escritorio/BELEN/geonet/GOES_16_Samples/OR_ABI-L2-CMIPF-M3C13_G16_s20183532145334_e20183532156112_c20183532156189.nc',\n",
       " '/home/usuario/Escritorio/BELEN/geonet/GOES_16_Samples/OR_ABI-L2-CMIPF-M3C13_G16_s20183532200334_e20183532211112_c20183532211186.nc',\n",
       " '/home/usuario/Escritorio/BELEN/geonet/GOES_16_Samples/OR_ABI-L2-CMIPF-M3C13_G16_s20183532215334_e20183532226112_c20183532226188.nc',\n",
       " '/home/usuario/Escritorio/BELEN/geonet/GOES_16_Samples/OR_ABI-L2-CMIPF-M3C13_G16_s20183532230334_e20183532241112_c20183532241187.nc']"
      ]
     },
     "execution_count": 2,
     "metadata": {},
     "output_type": "execute_result"
    }
   ],
   "source": [
    "import glob # Unix style pathname pattern expansion\n",
    "import os # Miscellaneous operating system interfaces\n",
    "\n",
    " \n",
    "# Directory where you have the GOES-16 Files\n",
    "dirname = '/home/usuario/Escritorio/BELEN/geonet/GOES_16_Samples/'\n",
    " \n",
    "# Put all file names on the directory in a list\n",
    "G16_images = []\n",
    "for filename in sorted(glob.glob(dirname+'OR_ABI-L2-CMIPF-M3C*.nc')):\n",
    "\tG16_images.append(filename)\n",
    "    \n",
    "G16_images"
   ]
  },
  {
   "cell_type": "code",
   "execution_count": 4,
   "metadata": {},
   "outputs": [
    {
     "data": {
      "text/plain": [
       "['/home/usuario/Escritorio/BELEN/geonet/GOES_16_Samples/OR_ABI-L2-CMIPF-M3C02_G16_s20183532130334_e20183532141101_c20183532141174-114300_0.nc\\n',\n",
       " '/home/usuario/Escritorio/BELEN/geonet/GOES_16_Samples/OR_ABI-L2-CMIPF-M3C09_G16_s20183532130334_e20183532141106_c20183532141183.nc\\n',\n",
       " '/home/usuario/Escritorio/BELEN/geonet/GOES_16_Samples/OR_ABI-L2-CMIPF-M3C13_G16_s20183532145334_e20183532156112_c20183532156189.nc\\n',\n",
       " '/home/usuario/Escritorio/BELEN/geonet/GOES_16_Samples/OR_ABI-L2-CMIPF-M3C13_G16_s20183532200334_e20183532211112_c20183532211186.nc\\n',\n",
       " '/home/usuario/Escritorio/BELEN/geonet/GOES_16_Samples/OR_ABI-L2-CMIPF-M3C13_G16_s20183532215334_e20183532226112_c20183532226188.nc\\n',\n",
       " '/home/usuario/Escritorio/BELEN/geonet/GOES_16_Samples/OR_ABI-L2-CMIPF-M3C13_G16_s20183532230334_e20183532241112_c20183532241187.nc\\n']"
      ]
     },
     "execution_count": 4,
     "metadata": {},
     "output_type": "execute_result"
    }
   ],
   "source": [
    "# If the log file doesn't exist yet, create one\n",
    "file = open('/home/usuario/Escritorio/BELEN/geonet/Output/G16_Log.txt', 'a')\n",
    "file.close()\n",
    " \n",
    "# Put all file names on the log in a list\n",
    "log = []\n",
    "with open('/home/usuario/Escritorio/BELEN/geonet/Output/G16_Log.txt') as f:\n",
    "\tlog = f.readlines()\n",
    "\n",
    "log"
   ]
  },
  {
   "cell_type": "code",
   "execution_count": 6,
   "metadata": {},
   "outputs": [
    {
     "data": {
      "text/plain": [
       "['/home/usuario/Escritorio/BELEN/geonet/GOES_16_Samples/OR_ABI-L2-CMIPF-M3C02_G16_s20183532130334_e20183532141101_c20183532141174-114300_0.nc',\n",
       " '/home/usuario/Escritorio/BELEN/geonet/GOES_16_Samples/OR_ABI-L2-CMIPF-M3C09_G16_s20183532130334_e20183532141106_c20183532141183.nc',\n",
       " '/home/usuario/Escritorio/BELEN/geonet/GOES_16_Samples/OR_ABI-L2-CMIPF-M3C13_G16_s20183532145334_e20183532156112_c20183532156189.nc',\n",
       " '/home/usuario/Escritorio/BELEN/geonet/GOES_16_Samples/OR_ABI-L2-CMIPF-M3C13_G16_s20183532200334_e20183532211112_c20183532211186.nc',\n",
       " '/home/usuario/Escritorio/BELEN/geonet/GOES_16_Samples/OR_ABI-L2-CMIPF-M3C13_G16_s20183532215334_e20183532226112_c20183532226188.nc',\n",
       " '/home/usuario/Escritorio/BELEN/geonet/GOES_16_Samples/OR_ABI-L2-CMIPF-M3C13_G16_s20183532230334_e20183532241112_c20183532241187.nc']"
      ]
     },
     "execution_count": 6,
     "metadata": {},
     "output_type": "execute_result"
    }
   ],
   "source": [
    "# Remove the line feed\n",
    "log = [x.strip() for x in log]\n",
    "\n",
    "log"
   ]
  },
  {
   "cell_type": "code",
   "execution_count": null,
   "metadata": {},
   "outputs": [],
   "source": []
  }
 ],
 "metadata": {
  "kernelspec": {
   "display_name": "Python 3",
   "language": "python",
   "name": "python3"
  },
  "language_info": {
   "codemirror_mode": {
    "name": "ipython",
    "version": 3
   },
   "file_extension": ".py",
   "mimetype": "text/x-python",
   "name": "python",
   "nbconvert_exporter": "python",
   "pygments_lexer": "ipython3",
   "version": "3.7.1"
  }
 },
 "nbformat": 4,
 "nbformat_minor": 2
}
